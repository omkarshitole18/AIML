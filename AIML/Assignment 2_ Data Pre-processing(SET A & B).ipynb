{
 "cells": [
  {
   "cell_type": "code",
   "execution_count": 8,
   "id": "c603a67b",
   "metadata": {},
   "outputs": [
    {
     "data": {
      "image/png": "[encoded data removed]",
      "text/plain": [
       "<Figure size 432x288 with 1 Axes>"
      ]
     },
     "metadata": {
      "needs_background": "light"
     },
     "output_type": "display_data"
    },
    {
     "data": {
      "image/png": "[encoded data removed]",
      "text/plain": [
       "<Figure size 432x288 with 1 Axes>"
      ]
     },
     "metadata": {
      "needs_background": "light"
     },
     "output_type": "display_data"
    }
   ],
   "source": [
    "#A2 SETA Q1 To prepare scatter plot\n",
    "\n",
    "import matplotlib.pyplot as plt\n",
    "import pandas as pd\n",
    "\n",
    "iris_df = pd.read_csv('iris.csv')\n",
    "\n",
    "def scatter_plot(x_data, y_data, x_label, y_label, title):\n",
    "    plt.scatter(x_data, y_data)\n",
    "    plt.title(title)\n",
    "    plt.xlabel(x_label)\n",
    "    plt.ylabel(y_label)\n",
    "    plt.show()\n",
    "\n",
    "scatter_plot(\n",
    "    iris_df['sepal.length'],\n",
    "    iris_df['sepal.width'],\n",
    "    'Sepal Length (cm)',\n",
    "    'Sepal Width (cm)',\n",
    "    'Scatter Plot of Sepal Length vs Sepal Width'\n",
    ")\n",
    "\n",
    "scatter_plot(\n",
    "    iris_df['petal.length'],\n",
    "    iris_df['petal.width'],\n",
    "    'Petal Length (cm)',\n",
    "    'Petal Width (cm)',\n",
    "    'Scatter Plot of Petal Length vs Petal Width'\n",
    ")\n"
   ]
  },
  {
   "cell_type": "code",
   "execution_count": null,
   "id": "4c108264",
   "metadata": {},
   "outputs": [],
   "source": []
  },
  {
   "cell_type": "code",
   "execution_count": 11,
   "id": "decafca9",
   "metadata": {},
   "outputs": [
    {
     "name": "stdout",
     "output_type": "stream",
     "text": [
      "Original Dataset:\n",
      "     sepal.length  sepal.width  petal.length  petal.width    variety\n",
      "0             5.1          3.5           1.4          0.2     Setosa\n",
      "1             4.9          3.0           1.4          0.2     Setosa\n",
      "2             4.7          NaN           1.3          0.2     Setosa\n",
      "3             4.6          3.1           1.5          0.2     Setosa\n",
      "4             5.0          3.6           1.4          0.2     Setosa\n",
      "..            ...          ...           ...          ...        ...\n",
      "145           6.7          3.0           NaN          2.3  Virginica\n",
      "146           6.3          2.5           NaN          1.9  Virginica\n",
      "147           6.5          3.0           NaN          2.0  Virginica\n",
      "148           6.2          3.4           5.4          2.3  Virginica\n",
      "149           5.9          3.0           5.1          1.8  Virginica\n",
      "\n",
      "[150 rows x 5 columns]\n",
      "\n",
      "Dataset after replacing null values with mean:\n",
      "     sepal.length  sepal.width  petal.length  petal.width    variety\n",
      "0             5.1     3.500000      1.400000          0.2     Setosa\n",
      "1             4.9     3.000000      1.400000          0.2     Setosa\n",
      "2             4.7     3.056376      1.300000          0.2     Setosa\n",
      "3             4.6     3.100000      1.500000          0.2     Setosa\n",
      "4             5.0     3.600000      1.400000          0.2     Setosa\n",
      "..            ...          ...           ...          ...        ...\n",
      "145           6.7     3.000000      3.729932          2.3  Virginica\n",
      "146           6.3     2.500000      3.729932          1.9  Virginica\n",
      "147           6.5     3.000000      3.729932          2.0  Virginica\n",
      "148           6.2     3.400000      5.400000          2.3  Virginica\n",
      "149           5.9     3.000000      5.100000          1.8  Virginica\n",
      "\n",
      "[150 rows x 5 columns]\n"
     ]
    }
   ],
   "source": [
    "#Q2 Replace null values\n",
    "import pandas as pd\n",
    "from sklearn.impute import SimpleImputer\n",
    "\n",
    "iris_df = pd.read_csv('iris.csv')\n",
    "\n",
    "print(\"Original Dataset:\")\n",
    "print(iris_df)\n",
    "\n",
    "def replace_null_with_mean(dataset):\n",
    "    numeric_cols = dataset.select_dtypes(include=['number']).columns\n",
    "    imputer = SimpleImputer(strategy='mean')\n",
    "    \n",
    "    for col in numeric_cols:\n",
    "        dataset[col] = imputer.fit_transform(dataset[[col]])\n",
    "    \n",
    "    return dataset\n",
    "\n",
    "iris_df_imputed = replace_null_with_mean(iris_df)\n",
    "\n",
    "print(\"\\nDataset after replacing null values with mean:\")\n",
    "print(iris_df_imputed)"
   ]
  },
  {
   "cell_type": "code",
   "execution_count": 1,
   "id": "782d5df7",
   "metadata": {},
   "outputs": [
    {
     "name": "stdout",
     "output_type": "stream",
     "text": [
      "\n",
      "Dataset after Label Encoding:\n",
      "0      0\n",
      "1      0\n",
      "2      0\n",
      "3      0\n",
      "4      0\n",
      "      ..\n",
      "145    2\n",
      "146    2\n",
      "147    2\n",
      "148    2\n",
      "149    2\n",
      "Name: variety, Length: 150, dtype: int64\n",
      "\n",
      "Dataset after One-Hot Encoding:\n",
      "     sepal.length  sepal.width  petal.length  petal.width  variety_0  \\\n",
      "0             5.1          3.5           1.4          0.2          1   \n",
      "1             4.9          3.0           1.4          0.2          1   \n",
      "2             4.7          NaN           1.3          0.2          1   \n",
      "3             4.6          3.1           1.5          0.2          1   \n",
      "4             5.0          3.6           1.4          0.2          1   \n",
      "..            ...          ...           ...          ...        ...   \n",
      "145           6.7          3.0           NaN          2.3          0   \n",
      "146           6.3          2.5           NaN          1.9          0   \n",
      "147           6.5          3.0           NaN          2.0          0   \n",
      "148           6.2          3.4           5.4          2.3          0   \n",
      "149           5.9          3.0           5.1          1.8          0   \n",
      "\n",
      "     variety_1  variety_2  \n",
      "0            0          0  \n",
      "1            0          0  \n",
      "2            0          0  \n",
      "3            0          0  \n",
      "4            0          0  \n",
      "..         ...        ...  \n",
      "145          0          1  \n",
      "146          0          1  \n",
      "147          0          1  \n",
      "148          0          1  \n",
      "149          0          1  \n",
      "\n",
      "[150 rows x 7 columns]\n"
     ]
    }
   ],
   "source": [
    "#Q3program to convert categorical values to numeric format in a given dataset using LabelEncoder and OneHotEncoder (Use Iris.csv). \n",
    "\n",
    "\n",
    "import pandas as pd\n",
    "from sklearn.preprocessing import OneHotEncoder, LabelEncoder\n",
    "\n",
    "iris_df = pd.read_csv('iris.csv')\n",
    "\n",
    "\n",
    "le = LabelEncoder()\n",
    "one_hot_encoder = OneHotEncoder()\n",
    "\n",
    "\n",
    "for col in iris_df.select_dtypes(include='object').columns:\n",
    "    iris_df[col] = le.fit_transform(iris_df[col])\n",
    "\n",
    "iris_df_one_hot_encoded = pd.get_dummies(iris_df, columns=['variety'])\n",
    "\n",
    "print(\"\\nDataset after Label Encoding:\")\n",
    "print(iris_df[col])\n",
    "\n",
    "print(\"\\nDataset after One-Hot Encoding:\")\n",
    "print(iris_df_one_hot_encoded)\n"
   ]
  },
  {
   "cell_type": "code",
   "execution_count": 2,
   "id": "32fbb9b5",
   "metadata": {},
   "outputs": [
    {
     "name": "stdout",
     "output_type": "stream",
     "text": [
      "Original Dataset:\n",
      "              SAL  EDU  WC\n",
      "0    58627.052558   17   1\n",
      "1    37821.606137   12   0\n",
      "2    58443.126575   12   1\n",
      "3    47816.364046   12   0\n",
      "4    39063.821577   13   0\n",
      "..            ...  ...  ..\n",
      "995  30966.731483   11   0\n",
      "996  13199.637749   11   0\n",
      "997  41731.219882   12   0\n",
      "998  52687.006179   12   0\n",
      "999  42217.333201   14   1\n",
      "\n",
      "[1000 rows x 3 columns]\n",
      "\n",
      "Dataset after Basic Standardization:\n",
      "          SAL       EDU        WC\n",
      "0    1.692770  1.715793  1.690604\n",
      "1   -0.447674 -0.535904 -0.590913\n",
      "2    1.673848 -0.535904  1.690604\n",
      "3    0.580577 -0.535904 -0.590913\n",
      "4   -0.319876 -0.085564 -0.590913\n",
      "..        ...       ...       ...\n",
      "995 -1.152896 -0.986243 -0.590913\n",
      "996 -2.980757 -0.986243 -0.590913\n",
      "997 -0.045456 -0.535904 -0.590913\n",
      "998  1.081664 -0.535904 -0.590913\n",
      "999  0.004555  0.364775  1.690604\n",
      "\n",
      "[1000 rows x 3 columns]\n"
     ]
    }
   ],
   "source": [
    "#Q4program to scale values in a given dataset using standardization technique (Salary_Data.csv). \n",
    "\n",
    "\n",
    "import pandas as pd\n",
    "\n",
    "\n",
    "salary_data = pd.read_csv('Salary_Data.csv')\n",
    "\n",
    "\n",
    "print(\"Original Dataset:\")\n",
    "print(salary_data)\n",
    "\n",
    "\n",
    "def basic_standardization(column):\n",
    "    mean = column.mean()\n",
    "    std_dev = column.std()\n",
    "    standardized_column = (column - mean) / std_dev\n",
    "    return standardized_column\n",
    "\n",
    "numerical_columns = salary_data.select_dtypes(include=['float64', 'int64']).columns\n",
    "for col in numerical_columns:\n",
    "    salary_data[col] = basic_standardization(salary_data[col])\n",
    "\n",
    "\n",
    "print(\"\\nDataset after Basic Standardization:\")\n",
    "print(salary_data)"
   ]
  },
  {
   "cell_type": "code",
   "execution_count": 3,
   "id": "c1741d4a",
   "metadata": {},
   "outputs": [
    {
     "name": "stdout",
     "output_type": "stream",
     "text": [
      "Original dataset:\n",
      "   sepal.length  sepal.width  petal.length  petal.width variety\n",
      "0           5.1          3.5           1.4          0.2  Setosa\n",
      "1           4.9          3.0           1.4          0.2  Setosa\n",
      "2           4.7          NaN           1.3          0.2  Setosa\n",
      "3           4.6          3.1           1.5          0.2  Setosa\n",
      "4           5.0          3.6           1.4          0.2  Setosa\n",
      "\n",
      "Shapes of training and test sets:\n",
      "X_train shape: (120, 4)\n",
      "X_test shape: (30, 4)\n",
      "y_train shape: (120,)\n",
      "y_test shape: (30,)\n"
     ]
    }
   ],
   "source": [
    "#A2 SETB Q1  split data tranning set and test set (('iris.csv')\n",
    "\n",
    "import pandas as pd\n",
    "from sklearn.model_selection import train_test_split\n",
    "\n",
    "iris_data = pd.read_csv('iris.csv')\n",
    "\n",
    "print(\"Original dataset:\")\n",
    "print(iris_data.head())\n",
    "\n",
    "X = iris_data.drop('variety', axis=1)\n",
    "y = iris_data['variety']\n",
    "\n",
    "X_train, X_test, y_train, y_test = train_test_split(X, y, test_size=0.2)\n",
    "\n",
    "print(\"\\nShapes of training and test sets:\")\n",
    "print(\"X_train shape:\", X_train.shape)\n",
    "print(\"X_test shape:\", X_test.shape)\n",
    "print(\"y_train shape:\", y_train.shape)\n",
    "print(\"y_test shape:\", y_test.shape)\n"
   ]
  },
  {
   "cell_type": "code",
   "execution_count": 6,
   "id": "11a963f6",
   "metadata": {},
   "outputs": [
    {
     "name": "stdout",
     "output_type": "stream",
     "text": [
      "Original dataset:\n",
      "                                            Name  Pclass  Gender     Weight  \\\n",
      "0                       Toufik, Mr. Nakli???????       3    male      70kgs   \n",
      "1                      White, Mr. Richard Frasar       1    male        NaN   \n",
      "2                Johnson, Mr. William Cahoone Jr       3    male  154.89lbs   \n",
      "3  Arnold-Franchi, Mrs. Josef (Josefine Franchi)       3  female        NaN   \n",
      "4                           Davies, Mr. Alfred J       3    male      78kgs   \n",
      "\n",
      "           Age  SibSp  Parch     Fare Embarked  Survived  \n",
      "0          NaN      0    0.0   7.2292        C         0  \n",
      "1  21years old      0    1.0  77.2875        S         0  \n",
      "2           19      0    0.0   0.0000        S         0  \n",
      "3           18      1    0.0  17.8000        S         0  \n",
      "4           24      2    0.0  24.1500        S         0  \n",
      "\n",
      "Scaled dataset:\n",
      "     Pclass  Gender     Weight          Age     SibSp     Parch      Fare  \\\n",
      "0  0.673036    male      70kgs          NaN -0.465897 -0.515152 -0.473398   \n",
      "1 -1.953446    male        NaN  21years old -0.465897  0.555556  1.413560   \n",
      "2  0.673036    male  154.89lbs           19 -0.465897 -0.515152 -0.668110   \n",
      "3  0.673036  female        NaN           18  0.333926 -0.515152 -0.188683   \n",
      "4  0.673036    male      78kgs           24  1.133748 -0.515152 -0.017651   \n",
      "\n",
      "  Embarked  Survived  \n",
      "0        C -0.373632  \n",
      "1        S -0.373632  \n",
      "2        S -0.373632  \n",
      "3        S -0.373632  \n",
      "4        S -0.373632  \n"
     ]
    }
   ],
   "source": [
    "//# SET B Q2 To scale features using standardization technique  (data_preprocess.csv)//\n",
    "\n",
    "import pandas as pd\n",
    "from sklearn.preprocessing import StandardScaler\n",
    "\n",
    "data = pd.read_csv('data_preprocess.csv')\n",
    "\n",
    "print(\"Original dataset:\")\n",
    "print(data.head())\n",
    "\n",
    "X = data.drop('Name', axis=1)\n",
    "\n",
    "numeric_columns = X.select_dtypes(include=['float64', 'int64']).columns\n",
    "\n",
    "scaler = StandardScaler()\n",
    "\n",
    "X[numeric_columns] = scaler.fit_transform(X[numeric_columns])\n",
    "\n",
    "print(\"\\nScaled dataset:\")\n",
    "print(X.head())"
   ]
  },
  {
   "cell_type": "code",
   "execution_count": null,
   "id": "31166510",
   "metadata": {},
   "outputs": [],
   "source": []
  }
 ],
 "metadata": {
  "kernelspec": {
   "display_name": "Python 3 (ipykernel)",
   "language": "python",
   "name": "python3"
  },
  "language_info": {
   "codemirror_mode": {
    "name": "ipython",
    "version": 3
   },
   "file_extension": ".py",
   "mimetype": "text/x-python",
   "name": "python",
   "nbconvert_exporter": "python",
   "pygments_lexer": "ipython3",
   "version": "3.12.2"
  }
 },
 "nbformat": 4,
 "nbformat_minor": 5
}
